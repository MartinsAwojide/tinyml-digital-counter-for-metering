{
 "cells": [
  {
   "cell_type": "code",
   "execution_count": 1,
   "metadata": {},
   "outputs": [],
   "source": [
    "import cv2\n",
    "import matplotlib.pyplot as plt \n",
    "import numpy as np "
   ]
  },
  {
   "cell_type": "code",
   "execution_count": 8,
   "metadata": {},
   "outputs": [
    {
     "name": "stdout",
     "output_type": "stream",
     "text": [
      "None\n"
     ]
    }
   ],
   "source": [
    "image_transform = cv2.imread(\"1.bmp\", cv2.IMREAD_GRAYSCALE)\n",
    "print(image_transform)\n",
    "# plt.imshow(image_transform)\n",
    "# plt.show()"
   ]
  },
  {
   "cell_type": "code",
   "execution_count": 3,
   "metadata": {},
   "outputs": [
    {
     "name": "stdout",
     "output_type": "stream",
     "text": [
      "\u001b[31m1.bmp\u001b[m\u001b[m*\r\n",
      "\u001b[31mImg_1_473385748.bmp\u001b[m\u001b[m*\r\n",
      "Img_24_473387381.bmp\r\n",
      "\u001b[31mImg_4_473386053.bmp\u001b[m\u001b[m*\r\n",
      "\u001b[31mImg_5_473386114.bmp\u001b[m\u001b[m*\r\n",
      "\u001b[31mImg_6_473386175.bmp\u001b[m\u001b[m*\r\n",
      "\u001b[31mImg_7_473386236.bmp\u001b[m\u001b[m*\r\n",
      "\u001b[31mImg_8_473386296.bmp\u001b[m\u001b[m*\r\n",
      "ROI_0.png\r\n",
      "ROI_1.png\r\n",
      "ROI_2.png\r\n",
      "ROI_3.png\r\n",
      "ROI_4.png\r\n",
      "ROI_5.png\r\n",
      "Untitled.ipynb\r\n",
      "crop_save_image.ipynb\r\n",
      "\u001b[34mcropped\u001b[m\u001b[m/\r\n",
      "cropping_digit.ipynb\r\n",
      "cropping_digit_with_perpective_transform.ipynb\r\n",
      "draw_digit_with_perpective_transform_crop_save_image.ipynb\r\n",
      "meter.png\r\n",
      "rotational_correction.ipynb\r\n",
      "test.png\r\n",
      "testing.ipynb\r\n",
      "transformed.jpg\r\n",
      "transformed2.jpg\r\n"
     ]
    }
   ],
   "source": [
    "ls"
   ]
  },
  {
   "cell_type": "code",
   "execution_count": null,
   "metadata": {},
   "outputs": [],
   "source": []
  }
 ],
 "metadata": {
  "kernelspec": {
   "display_name": "Python 3",
   "language": "python",
   "name": "python3"
  },
  "language_info": {
   "codemirror_mode": {
    "name": "ipython",
    "version": 3
   },
   "file_extension": ".py",
   "mimetype": "text/x-python",
   "name": "python",
   "nbconvert_exporter": "python",
   "pygments_lexer": "ipython3",
   "version": "3.7.1"
  }
 },
 "nbformat": 4,
 "nbformat_minor": 2
}
