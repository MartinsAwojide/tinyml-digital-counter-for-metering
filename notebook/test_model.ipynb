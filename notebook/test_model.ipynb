{
 "cells": [
  {
   "cell_type": "code",
<<<<<<< HEAD
   "execution_count": 37,
   "metadata": {
    "scrolled": true
   },
   "outputs": [
    {
     "name": "stdout",
     "output_type": "stream",
     "text": [
      "[{'name': 'serving_default_x:0', 'index': 0, 'shape': array([ 1, 23, 23,  3], dtype=int32), 'shape_signature': array([ 1, 23, 23,  3], dtype=int32), 'dtype': <class 'numpy.int8'>, 'quantization': (0.0038446751423180103, -128), 'quantization_parameters': {'scales': array([0.00384468], dtype=float32), 'zero_points': array([-128], dtype=int32), 'quantized_dimension': 0}, 'sparsity_parameters': {}}]\n"
     ]
    }
   ],
   "source": [
    "import numpy as np\n",
    "import tensorflow as tf\n",
    "import cv2\n",
    "import pathlib\n",
    "from PIL import Image\n",
    "import glob\n",
    "\n",
    "# model path \n",
    "model_path = \"model/trained.tflite\"\n",
    "# Load TFLite model and allocate tensors.\n",
    "interpreter = tf.lite.Interpreter(model_path=model_path)\n",
    "# Get input and output tensors.\n",
    "input_details = interpreter.get_input_details()\n",
    "output_details = interpreter.get_output_details()\n",
    "\n",
    "interpreter.allocate_tensors()\n",
    "\n",
    "# input details\n",
    "print(input_details)\n"
=======
   "execution_count": 6,
   "metadata": {},
   "outputs": [],
   "source": [
    "import cv2\n",
    "import matplotlib.pyplot as plt \n",
    "import numpy as np "
>>>>>>> 758eea9cdb485fdae53aa43cf8a107a7f2829832
   ]
  },
  {
   "cell_type": "code",
<<<<<<< HEAD
   "execution_count": 50,
   "metadata": {},
   "outputs": [],
   "source": [
    "def infer_with_TF_lite(interpreter, input_details, output_details, raw_image):\n",
    "    # Get input size\n",
    "    input_shape = input_details[0]['shape']\n",
    "    size = input_shape[:2] if len(input_shape) == 3 else input_shape[1:3]\n",
    "    print(size)\n",
    "\n",
    "    # Preprocess image\n",
    "    raw_image = raw_image.resize(size)\n",
    "#     img = np.array(raw_image, dtype=np.float32)\n",
    "    img = np.array(raw_image)\n",
    "\n",
    "    # Normalize image\n",
    "#     img = img / 255.\n",
    "\n",
    "    # Add a batch dimension and a dimension because we use grayscale format\n",
    "    # Reshape from (INPUT_IMAGE_SIZE, INPUT_IMAGE_SIZE) to (1, INPUT_IMAGE_SIZE, INPUT_IMAGE_SIZE, 1)\n",
    "    #input_data = img.reshape(1, img.shape[0], img.shape[1], 3)\n",
    "    input_data = img.reshape((-1, 1, 23, 23))\n",
    "\n",
    "    \n",
    "    # Point the data to be used for testing\n",
    "    interpreter.set_tensor(input_details[0]['index'], input_data)\n",
    "\n",
    "    # Run the interpreter\n",
    "    interpreter.invoke()\n",
    "\n",
    "    # Obtain results\n",
    "    predictions = interpreter.get_tensor(output_details[0]['index'])[0]\n",
    "    \n",
    "    return predictions"
=======
   "execution_count": 7,
   "metadata": {},
   "outputs": [],
   "source": [
    "import tensorflow as tf"
>>>>>>> 758eea9cdb485fdae53aa43cf8a107a7f2829832
   ]
  },
  {
   "cell_type": "code",
<<<<<<< HEAD
   "execution_count": 51,
   "metadata": {},
   "outputs": [
    {
     "name": "stdout",
     "output_type": "stream",
     "text": [
      "Found 51 .png files\n"
=======
   "execution_count": 3,
   "metadata": {},
   "outputs": [
    {
     "ename": "ModuleNotFoundError",
     "evalue": "No module named 'tflite_runtime'",
     "output_type": "error",
     "traceback": [
      "\u001b[0;31m---------------------------------------------------------------------------\u001b[0m",
      "\u001b[0;31mModuleNotFoundError\u001b[0m                       Traceback (most recent call last)",
      "\u001b[0;32m<ipython-input-3-e5a240a74662>\u001b[0m in \u001b[0;36m<module>\u001b[0;34m\u001b[0m\n\u001b[0;32m----> 1\u001b[0;31m \u001b[0;32mimport\u001b[0m \u001b[0mtflite_runtime\u001b[0m\u001b[0;34m.\u001b[0m\u001b[0minterpreter\u001b[0m \u001b[0;32mas\u001b[0m \u001b[0mtflite\u001b[0m\u001b[0;34m\u001b[0m\u001b[0;34m\u001b[0m\u001b[0m\n\u001b[0m",
      "\u001b[0;31mModuleNotFoundError\u001b[0m: No module named 'tflite_runtime'"
>>>>>>> 758eea9cdb485fdae53aa43cf8a107a7f2829832
     ]
    }
   ],
   "source": [
<<<<<<< HEAD
    "path = \"sample/\"\n",
    "file_format = \".png\"\n",
    "files = [files for files in glob.glob(path + \"*\" + file_format, recursive=False)]\n",
    "print(\"Found {0} {1} files\".format(len(files), file_format))\n"
=======
    "import tflite_runtime.interpreter as tflite"
>>>>>>> 758eea9cdb485fdae53aa43cf8a107a7f2829832
   ]
  },
  {
   "cell_type": "code",
<<<<<<< HEAD
   "execution_count": 52,
=======
   "execution_count": 10,
>>>>>>> 758eea9cdb485fdae53aa43cf8a107a7f2829832
   "metadata": {},
   "outputs": [
    {
     "name": "stdout",
     "output_type": "stream",
     "text": [
<<<<<<< HEAD
      "<PIL.Image.Image image mode=L size=15x25 at 0x7FBB78733730>\n",
      "[23 23]\n"
     ]
    },
    {
     "ename": "ValueError",
     "evalue": "Cannot set tensor: Got value of type UINT8 but expected type INT8 for input 0, name: serving_default_x:0 ",
=======
      "ei_image_classification.py  trained.tflite\r\n",
      "labels.txt\r\n"
     ]
    }
   ],
   "source": [
    "ls model "
   ]
  },
  {
   "cell_type": "code",
   "execution_count": 11,
   "metadata": {},
   "outputs": [
    {
     "ename": "ValueError",
     "evalue": "Didn't find op for builtin opcode 'CONV_2D' version '3'\nRegistration failed.\n",
>>>>>>> 758eea9cdb485fdae53aa43cf8a107a7f2829832
     "output_type": "error",
     "traceback": [
      "\u001b[0;31m---------------------------------------------------------------------------\u001b[0m",
      "\u001b[0;31mValueError\u001b[0m                                Traceback (most recent call last)",
<<<<<<< HEAD
      "\u001b[0;32m/tmp/ipykernel_23834/1328476837.py\u001b[0m in \u001b[0;36m<module>\u001b[0;34m\u001b[0m\n\u001b[1;32m      3\u001b[0m     \u001b[0mraw_image\u001b[0m \u001b[0;34m=\u001b[0m \u001b[0mImage\u001b[0m\u001b[0;34m.\u001b[0m\u001b[0mopen\u001b[0m\u001b[0;34m(\u001b[0m\u001b[0mf\u001b[0m\u001b[0;34m)\u001b[0m\u001b[0;34m.\u001b[0m\u001b[0mconvert\u001b[0m\u001b[0;34m(\u001b[0m\u001b[0;34m'L'\u001b[0m\u001b[0;34m)\u001b[0m\u001b[0;34m\u001b[0m\u001b[0;34m\u001b[0m\u001b[0m\n\u001b[1;32m      4\u001b[0m     \u001b[0mprint\u001b[0m\u001b[0;34m(\u001b[0m\u001b[0mraw_image\u001b[0m\u001b[0;34m)\u001b[0m\u001b[0;34m\u001b[0m\u001b[0;34m\u001b[0m\u001b[0m\n\u001b[0;32m----> 5\u001b[0;31m     \u001b[0mresult_tfl\u001b[0m \u001b[0;34m=\u001b[0m \u001b[0minfer_with_TF_lite\u001b[0m\u001b[0;34m(\u001b[0m\u001b[0minterpreter\u001b[0m\u001b[0;34m,\u001b[0m \u001b[0minput_details\u001b[0m\u001b[0;34m,\u001b[0m \u001b[0moutput_details\u001b[0m\u001b[0;34m,\u001b[0m \u001b[0mraw_image\u001b[0m\u001b[0;34m)\u001b[0m\u001b[0;34m\u001b[0m\u001b[0;34m\u001b[0m\u001b[0m\n\u001b[0m\u001b[1;32m      6\u001b[0m \u001b[0;34m\u001b[0m\u001b[0m\n\u001b[1;32m      7\u001b[0m     \u001b[0mresult_mcu\u001b[0m \u001b[0;34m=\u001b[0m \u001b[0minfer_with_MCU\u001b[0m\u001b[0;34m(\u001b[0m\u001b[0mraw_image\u001b[0m\u001b[0;34m)\u001b[0m\u001b[0;34m\u001b[0m\u001b[0;34m\u001b[0m\u001b[0m\n",
      "\u001b[0;32m/tmp/ipykernel_23834/2494330169.py\u001b[0m in \u001b[0;36minfer_with_TF_lite\u001b[0;34m(interpreter, input_details, output_details, raw_image)\u001b[0m\n\u001b[1;32m     20\u001b[0m \u001b[0;34m\u001b[0m\u001b[0m\n\u001b[1;32m     21\u001b[0m     \u001b[0;31m# Point the data to be used for testing\u001b[0m\u001b[0;34m\u001b[0m\u001b[0;34m\u001b[0m\u001b[0;34m\u001b[0m\u001b[0m\n\u001b[0;32m---> 22\u001b[0;31m     \u001b[0minterpreter\u001b[0m\u001b[0;34m.\u001b[0m\u001b[0mset_tensor\u001b[0m\u001b[0;34m(\u001b[0m\u001b[0minput_details\u001b[0m\u001b[0;34m[\u001b[0m\u001b[0;36m0\u001b[0m\u001b[0;34m]\u001b[0m\u001b[0;34m[\u001b[0m\u001b[0;34m'index'\u001b[0m\u001b[0;34m]\u001b[0m\u001b[0;34m,\u001b[0m \u001b[0minput_data\u001b[0m\u001b[0;34m)\u001b[0m\u001b[0;34m\u001b[0m\u001b[0;34m\u001b[0m\u001b[0m\n\u001b[0m\u001b[1;32m     23\u001b[0m \u001b[0;34m\u001b[0m\u001b[0m\n\u001b[1;32m     24\u001b[0m     \u001b[0;31m# Run the interpreter\u001b[0m\u001b[0;34m\u001b[0m\u001b[0;34m\u001b[0m\u001b[0;34m\u001b[0m\u001b[0m\n",
      "\u001b[0;32m~/anaconda3/envs/gputensorflow/lib/python3.8/site-packages/tensorflow/lite/python/interpreter.py\u001b[0m in \u001b[0;36mset_tensor\u001b[0;34m(self, tensor_index, value)\u001b[0m\n\u001b[1;32m    570\u001b[0m       \u001b[0mValueError\u001b[0m\u001b[0;34m:\u001b[0m \u001b[0mIf\u001b[0m \u001b[0mthe\u001b[0m \u001b[0minterpreter\u001b[0m \u001b[0mcould\u001b[0m \u001b[0;32mnot\u001b[0m \u001b[0mset\u001b[0m \u001b[0mthe\u001b[0m \u001b[0mtensor\u001b[0m\u001b[0;34m.\u001b[0m\u001b[0;34m\u001b[0m\u001b[0;34m\u001b[0m\u001b[0m\n\u001b[1;32m    571\u001b[0m     \"\"\"\n\u001b[0;32m--> 572\u001b[0;31m     \u001b[0mself\u001b[0m\u001b[0;34m.\u001b[0m\u001b[0m_interpreter\u001b[0m\u001b[0;34m.\u001b[0m\u001b[0mSetTensor\u001b[0m\u001b[0;34m(\u001b[0m\u001b[0mtensor_index\u001b[0m\u001b[0;34m,\u001b[0m \u001b[0mvalue\u001b[0m\u001b[0;34m)\u001b[0m\u001b[0;34m\u001b[0m\u001b[0;34m\u001b[0m\u001b[0m\n\u001b[0m\u001b[1;32m    573\u001b[0m \u001b[0;34m\u001b[0m\u001b[0m\n\u001b[1;32m    574\u001b[0m   \u001b[0;32mdef\u001b[0m \u001b[0mresize_tensor_input\u001b[0m\u001b[0;34m(\u001b[0m\u001b[0mself\u001b[0m\u001b[0;34m,\u001b[0m \u001b[0minput_index\u001b[0m\u001b[0;34m,\u001b[0m \u001b[0mtensor_size\u001b[0m\u001b[0;34m,\u001b[0m \u001b[0mstrict\u001b[0m\u001b[0;34m=\u001b[0m\u001b[0;32mFalse\u001b[0m\u001b[0;34m)\u001b[0m\u001b[0;34m:\u001b[0m\u001b[0;34m\u001b[0m\u001b[0;34m\u001b[0m\u001b[0m\n",
      "\u001b[0;31mValueError\u001b[0m: Cannot set tensor: Got value of type UINT8 but expected type INT8 for input 0, name: serving_default_x:0 "
=======
      "\u001b[0;32m<ipython-input-11-c6e4f90581d2>\u001b[0m in \u001b[0;36m<module>\u001b[0;34m\u001b[0m\n\u001b[1;32m      2\u001b[0m \u001b[0;34m\u001b[0m\u001b[0m\n\u001b[1;32m      3\u001b[0m \u001b[0;31m# Load TFLite model and allocate tensors.\u001b[0m\u001b[0;34m\u001b[0m\u001b[0;34m\u001b[0m\u001b[0;34m\u001b[0m\u001b[0m\n\u001b[0;32m----> 4\u001b[0;31m \u001b[0minterpreter\u001b[0m \u001b[0;34m=\u001b[0m \u001b[0mtf\u001b[0m\u001b[0;34m.\u001b[0m\u001b[0mlite\u001b[0m\u001b[0;34m.\u001b[0m\u001b[0mInterpreter\u001b[0m\u001b[0;34m(\u001b[0m\u001b[0mmodel_path\u001b[0m\u001b[0;34m=\u001b[0m\u001b[0mmodel_path\u001b[0m\u001b[0;34m)\u001b[0m\u001b[0;34m\u001b[0m\u001b[0;34m\u001b[0m\u001b[0m\n\u001b[0m\u001b[1;32m      5\u001b[0m \u001b[0;34m\u001b[0m\u001b[0m\n\u001b[1;32m      6\u001b[0m \u001b[0;31m# Get input and output tensors.\u001b[0m\u001b[0;34m\u001b[0m\u001b[0;34m\u001b[0m\u001b[0;34m\u001b[0m\u001b[0m\n",
      "\u001b[0;32m~/anaconda3/envs/tf2/lib/python3.6/site-packages/tensorflow/lite/python/interpreter.py\u001b[0m in \u001b[0;36m__init__\u001b[0;34m(self, model_path, model_content)\u001b[0m\n\u001b[1;32m     53\u001b[0m       self._interpreter = (\n\u001b[1;32m     54\u001b[0m           _interpreter_wrapper.InterpreterWrapper_CreateWrapperCPPFromFile(\n\u001b[0;32m---> 55\u001b[0;31m               model_path))\n\u001b[0m\u001b[1;32m     56\u001b[0m       \u001b[0;32mif\u001b[0m \u001b[0;32mnot\u001b[0m \u001b[0mself\u001b[0m\u001b[0;34m.\u001b[0m\u001b[0m_interpreter\u001b[0m\u001b[0;34m:\u001b[0m\u001b[0;34m\u001b[0m\u001b[0;34m\u001b[0m\u001b[0m\n\u001b[1;32m     57\u001b[0m         \u001b[0;32mraise\u001b[0m \u001b[0mValueError\u001b[0m\u001b[0;34m(\u001b[0m\u001b[0;34m'Failed to open {}'\u001b[0m\u001b[0;34m.\u001b[0m\u001b[0mformat\u001b[0m\u001b[0;34m(\u001b[0m\u001b[0mmodel_path\u001b[0m\u001b[0;34m)\u001b[0m\u001b[0;34m)\u001b[0m\u001b[0;34m\u001b[0m\u001b[0;34m\u001b[0m\u001b[0m\n",
      "\u001b[0;31mValueError\u001b[0m: Didn't find op for builtin opcode 'CONV_2D' version '3'\nRegistration failed.\n"
>>>>>>> 758eea9cdb485fdae53aa43cf8a107a7f2829832
     ]
    }
   ],
   "source": [
<<<<<<< HEAD
    "for f in files:\n",
    "    # Read image\n",
    "    raw_image = Image.open(f).convert('L')\n",
    "    print(raw_image)\n",
    "    result_tfl = infer_with_TF_lite(interpreter, input_details, output_details, raw_image)\n",
    "\n",
    "    result_mcu = infer_with_MCU(raw_image)\n",
    "\n",
    "    status = compare_results(result_tfl, result_mcu)\n",
    "    status_str = \"Ok\" if status else \"Reults NOT eqal!\"\n",
    "    print(\"For file: {0} - {1}\".format(f, status_str))"
=======
    "model_path = \"model/trained.tflite\"\n",
    "\n",
    "# Load TFLite model and allocate tensors.\n",
    "interpreter = tf.lite.Interpreter(model_path=model_path)\n",
    "\n",
    "# Get input and output tensors.\n",
    "input_details = interpreter.get_input_details()\n",
    "output_details = interpreter.get_output_details()\n",
    "\n",
    "# Allocate tensors\n",
    "interpreter.allocate_tensors()"
>>>>>>> 758eea9cdb485fdae53aa43cf8a107a7f2829832
   ]
  },
  {
   "cell_type": "code",
<<<<<<< HEAD
   "execution_count": null,
   "metadata": {},
   "outputs": [],
   "source": []
  },
  {
   "cell_type": "code",
   "execution_count": null,
   "metadata": {},
   "outputs": [],
   "source": []
  },
  {
   "cell_type": "code",
=======
>>>>>>> 758eea9cdb485fdae53aa43cf8a107a7f2829832
   "execution_count": 8,
   "metadata": {},
   "outputs": [
    {
     "name": "stdout",
     "output_type": "stream",
     "text": [
      "None\n"
     ]
    }
   ],
   "source": [
    "image_transform = cv2.imread(\"1.bmp\", cv2.IMREAD_GRAYSCALE)\n",
    "print(image_transform)\n",
    "# plt.imshow(image_transform)\n",
    "# plt.show()"
   ]
  },
  {
   "cell_type": "code",
<<<<<<< HEAD
=======
   "execution_count": 3,
   "metadata": {},
   "outputs": [
    {
     "name": "stdout",
     "output_type": "stream",
     "text": [
      "\u001b[31m1.bmp\u001b[m\u001b[m*\r\n",
      "\u001b[31mImg_1_473385748.bmp\u001b[m\u001b[m*\r\n",
      "Img_24_473387381.bmp\r\n",
      "\u001b[31mImg_4_473386053.bmp\u001b[m\u001b[m*\r\n",
      "\u001b[31mImg_5_473386114.bmp\u001b[m\u001b[m*\r\n",
      "\u001b[31mImg_6_473386175.bmp\u001b[m\u001b[m*\r\n",
      "\u001b[31mImg_7_473386236.bmp\u001b[m\u001b[m*\r\n",
      "\u001b[31mImg_8_473386296.bmp\u001b[m\u001b[m*\r\n",
      "ROI_0.png\r\n",
      "ROI_1.png\r\n",
      "ROI_2.png\r\n",
      "ROI_3.png\r\n",
      "ROI_4.png\r\n",
      "ROI_5.png\r\n",
      "Untitled.ipynb\r\n",
      "crop_save_image.ipynb\r\n",
      "\u001b[34mcropped\u001b[m\u001b[m/\r\n",
      "cropping_digit.ipynb\r\n",
      "cropping_digit_with_perpective_transform.ipynb\r\n",
      "draw_digit_with_perpective_transform_crop_save_image.ipynb\r\n",
      "meter.png\r\n",
      "rotational_correction.ipynb\r\n",
      "test.png\r\n",
      "testing.ipynb\r\n",
      "transformed.jpg\r\n",
      "transformed2.jpg\r\n"
     ]
    }
   ],
   "source": [
    "ls"
   ]
  },
  {
   "cell_type": "code",
>>>>>>> 758eea9cdb485fdae53aa43cf8a107a7f2829832
   "execution_count": null,
   "metadata": {},
   "outputs": [],
   "source": []
  }
 ],
 "metadata": {
  "kernelspec": {
<<<<<<< HEAD
   "display_name": "Python 3 (ipykernel)",
   "language": "python",
   "name": "python3"
=======
   "display_name": "Python [conda env:tf2]",
   "language": "python",
   "name": "conda-env-tf2-py"
>>>>>>> 758eea9cdb485fdae53aa43cf8a107a7f2829832
  },
  "language_info": {
   "codemirror_mode": {
    "name": "ipython",
    "version": 3
   },
   "file_extension": ".py",
   "mimetype": "text/x-python",
   "name": "python",
   "nbconvert_exporter": "python",
   "pygments_lexer": "ipython3",
<<<<<<< HEAD
   "version": "3.8.10"
=======
   "version": "3.6.7"
>>>>>>> 758eea9cdb485fdae53aa43cf8a107a7f2829832
  }
 },
 "nbformat": 4,
 "nbformat_minor": 2
}
