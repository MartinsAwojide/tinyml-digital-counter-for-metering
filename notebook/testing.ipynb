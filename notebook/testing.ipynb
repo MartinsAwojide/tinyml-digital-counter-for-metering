{
 "cells": [
  {
   "cell_type": "markdown",
   "metadata": {},
   "source": [
    "## Crop multiple bounding boxes from image with list of bounding boxes"
   ]
  },
  {
   "cell_type": "code",
   "execution_count": 1,
   "metadata": {},
   "outputs": [
    {
     "name": "stdout",
     "output_type": "stream",
     "text": [
      "(17, 24, 47, 47)\n",
      "(74, 28, 47, 50)\n",
      "(125, 15, 51, 61)\n",
      "(184, 18, 53, 53)\n",
      "(247, 25, 44, 46)\n",
      "(296, 6, 65, 66)\n"
     ]
    }
   ],
   "source": [
    "import cv2\n",
    "import numpy as np \n",
    "\n",
    "image = cv2.imread('test.png')\n",
    "bounding_boxes = [(17, 24, 47, 47),\n",
    "                  (74, 28, 47, 50),\n",
    "                  (125, 15, 51, 61),\n",
    "                  (184, 18, 53, 53),\n",
    "                  (247, 25, 44, 46),\n",
    "                  (296, 6, 65, 66)\n",
    "]\n",
    "\n",
    "num = 0\n",
    "for box in bounding_boxes:\n",
    "    x,y,w,h = box\n",
    "    print(box)\n",
    "    ROI = image[y:y+h, x:x+w]\n",
    "    cv2.imwrite('ROI_{}.png'.format(num), ROI)\n",
    "    num += 1\n",
    "#     cv2.imshow('ROI', ROI)\n",
    "#     cv2.waitKey()"
   ]
  },
  {
   "cell_type": "code",
   "execution_count": null,
   "metadata": {},
   "outputs": [],
   "source": []
  }
 ],
 "metadata": {
  "kernelspec": {
   "display_name": "Python 3",
   "language": "python",
   "name": "python3"
  },
  "language_info": {
   "codemirror_mode": {
    "name": "ipython",
    "version": 3
   },
   "file_extension": ".py",
   "mimetype": "text/x-python",
   "name": "python",
   "nbconvert_exporter": "python",
   "pygments_lexer": "ipython3",
   "version": "3.7.1"
  }
 },
 "nbformat": 4,
 "nbformat_minor": 2
}
